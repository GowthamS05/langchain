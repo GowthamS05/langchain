{
 "cells": [
  {
   "cell_type": "code",
   "execution_count": null,
   "metadata": {},
   "outputs": [],
   "source": [
    "pip install datasets pandas torch python-dotenv peft"
   ]
  },
  {
   "cell_type": "code",
   "execution_count": null,
   "metadata": {},
   "outputs": [],
   "source": [
    "# --------------------------------------\n",
    "# 1. Load environment variables and log in to Hugging Face\n",
    "# --------------------------------------\n",
    "import os\n",
    "from dotenv import load_dotenv\n",
    "load_dotenv()\n",
    "hf_token = os.getenv(\"HF_TOKEN\")"
   ]
  },
  {
   "cell_type": "code",
   "execution_count": null,
   "metadata": {},
   "outputs": [],
   "source": [
    "# --------------------------------------\n",
    "# 2. Import model and tokenizer from Hugging Face\n",
    "# --------------------------------------\n",
    "from transformers import AutoTokenizer, AutoModelForCausalLM\n",
    "from datasets import load_dataset\n",
    "\n",
    "model_name = \"distilgpt2\"\n",
    "tokenizer = AutoTokenizer.from_pretrained(model_name)\n",
    "tokenizer.pad_token = tokenizer.eos_token\n",
    "tokenizer.padding_side = \"right\""
   ]
  },
  {
   "cell_type": "code",
   "execution_count": null,
   "metadata": {},
   "outputs": [],
   "source": [
    "# --------------------------------------\n",
    "# 3. Load and split the dataset\n",
    "# --------------------------------------\n",
    "raw_data = load_dataset(\"hkustisom5240/dataset_for_movie_review\", split=\"train[:1000]\")\n",
    "data = raw_data.train_test_split(train_size=0.95)"
   ]
  },
  {
   "cell_type": "code",
   "execution_count": null,
   "metadata": {},
   "outputs": [],
   "source": [
    "# --------------------------------------\n",
    "# 4. Preprocess: Tokenize the 'overview' field and prepare labels for Causal LM\n",
    "# --------------------------------------\n",
    "# Preprocessing\n",
    "def preprocess_batch(batch):\n",
    "    inputs = tokenizer(batch[\"overview\"], truncation=True, padding=\"max_length\", max_length=512)\n",
    "    inputs[\"labels\"] = inputs[\"input_ids\"].copy()\n",
    "    return inputs\n",
    "# Apply preprocessing to the dataset and remove original columns\n",
    "tokenized_data = data.map(\n",
    "    preprocess_batch,\n",
    "    batched=True,\n",
    "    batch_size=4,\n",
    "    remove_columns=data[\"train\"].column_names\n",
    ")"
   ]
  },
  {
   "cell_type": "code",
   "execution_count": null,
   "metadata": {},
   "outputs": [],
   "source": [
    "# --------------------------------------\n",
    "# 5. Set up data collator (handles dynamic padding during training)\n",
    "# --------------------------------------\n",
    "from transformers import DataCollatorForLanguageModeling\n",
    "data_collator = DataCollatorForLanguageModeling(tokenizer=tokenizer, mlm=False)"
   ]
  },
  {
   "cell_type": "code",
   "execution_count": null,
   "metadata": {},
   "outputs": [],
   "source": [
    "# --------------------------------------\n",
    "# 6. Apply LoRA to reduce training memory and speed up fine-tuning\n",
    "# --------------------------------------\n",
    "from peft import get_peft_model, LoraConfig, TaskType\n",
    "model = AutoModelForCausalLM.from_pretrained(model_name)\n",
    "\n",
    "lora_config = LoraConfig(\n",
    "    r=8,\n",
    "    lora_alpha=32,\n",
    "    lora_dropout=0.1,\n",
    "    bias=\"none\",\n",
    "    task_type=TaskType.CAUSAL_LM\n",
    ")\n",
    "\n",
    "model = get_peft_model(model, lora_config)\n",
    "model.print_trainable_parameters()\n",
    "model.train()"
   ]
  },
  {
   "cell_type": "code",
   "execution_count": null,
   "metadata": {},
   "outputs": [],
   "source": [
    "# --------------------------------------\n",
    "# 7. Define optimizer\n",
    "# --------------------------------------\n",
    "from torch.optim import AdamW\n",
    "optimizer = AdamW(model.parameters(), lr=1e-4)"
   ]
  },
  {
   "cell_type": "code",
   "execution_count": null,
   "metadata": {},
   "outputs": [],
   "source": [
    "# --------------------------------------\n",
    "# 8. Define training arguments for Hugging Face Trainer\n",
    "# --------------------------------------\n",
    "from transformers import TrainingArguments\n",
    "\n",
    "training_args = TrainingArguments(\n",
    "    output_dir=\"./output\",                  # Where to save checkpoints\n",
    "    save_steps=500,                         # Save model every 500 steps\n",
    "    learning_rate=1e-5,                     # Learning rate\n",
    "    weight_decay=0.04,                      # Weight decay (regularization)\n",
    "    num_train_epochs=3,                     # Number of training epochs\n",
    "    per_device_train_batch_size=2,          # Batch size per GPU (or CPU)\n",
    "    per_device_eval_batch_size=2,           # Eval batch size\n",
    "    logging_steps=50,                       # Log every 50 steps\n",
    "    logging_dir=\"./logs\",                   # Directory for logs\n",
    "    resume_from_checkpoint=False,           # Don't resume unless checkpoint exists\n",
    "    report_to=\"none\"                        # Disable wandb/tensorboard for simplicity\n",
    ")"
   ]
  },
  {
   "cell_type": "code",
   "execution_count": null,
   "metadata": {},
   "outputs": [],
   "source": [
    "# --------------------------------------\n",
    "# 9. Initialize the Trainer and start training\n",
    "# --------------------------------------\n",
    "from transformers import Trainer\n",
    "trainer = Trainer(\n",
    "    model=model,\n",
    "    args=training_args,\n",
    "    train_dataset=tokenized_data[\"train\"],\n",
    "    eval_dataset=tokenized_data[\"test\"],\n",
    "    data_collator=data_collator,\n",
    "    optimizers=(optimizer, None),\n",
    "    tokenizer=tokenizer,\n",
    ")\n",
    "\n",
    "trainer.train()"
   ]
  },
  {
   "cell_type": "code",
   "execution_count": null,
   "metadata": {},
   "outputs": [],
   "source": [
    "# --------------------------------------\n",
    "# 10. Save the fine-tuned model and tokenizer locally\n",
    "# --------------------------------------\n",
    "model.save_pretrained(\"gpt2-review-lora\")\n",
    "tokenizer.save_pretrained(\"gpt2-review-lora\")"
   ]
  },
  {
   "cell_type": "code",
   "execution_count": null,
   "metadata": {},
   "outputs": [],
   "source": [
    "# --------------------------------------\n",
    "# 11. Inference: Generate text from a prompt\n",
    "# --------------------------------------\n",
    "from transformers import AutoModelForCausalLM\n",
    "\n",
    "model = AutoModelForCausalLM.from_pretrained(\"gpt2-review-lora\")\n",
    "tokenizer = AutoTokenizer.from_pretrained(\"gpt2-review-lora\")\n",
    "\n",
    "text = \"Avatar revenue.\"\n",
    "inputs = tokenizer(text, return_tensors=\"pt\")\n",
    "outputs = model.generate(inputs.input_ids, max_length=100)\n",
    "decoded_output = tokenizer.decode(outputs[0], skip_special_tokens=True)\n",
    "\n",
    "for line in decoded_output.split('. '):\n",
    "    print(line.strip())"
   ]
  }
 ],
 "metadata": {
  "kernelspec": {
   "display_name": ".venv",
   "language": "python",
   "name": "python3"
  },
  "language_info": {
   "codemirror_mode": {
    "name": "ipython",
    "version": 3
   },
   "file_extension": ".py",
   "mimetype": "text/x-python",
   "name": "python",
   "nbconvert_exporter": "python",
   "pygments_lexer": "ipython3",
   "version": "3.9.6"
  }
 },
 "nbformat": 4,
 "nbformat_minor": 2
}
