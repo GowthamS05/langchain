{
 "cells": [
  {
   "cell_type": "code",
   "execution_count": 14,
   "metadata": {},
   "outputs": [],
   "source": [
    "from typing import TypedDict, Annotated\n",
    "from langgraph.graph import add_messages, StateGraph, END\n",
    "from langchain_core.messages import AIMessage, HumanMessage, SystemMessage\n",
    "from langgraph.types import Command,interrupt\n",
    "from langgraph.checkpoint.memory import MemorySaver"
   ]
  },
  {
   "cell_type": "code",
   "execution_count": 15,
   "metadata": {},
   "outputs": [
    {
     "name": "stdout",
     "output_type": "stream",
     "text": [
      "Node A\n",
      "Node B\n"
     ]
    },
    {
     "data": {
      "text/plain": [
       "[{'node_a': {'text': 'A'}},\n",
       " {'__interrupt__': (Interrupt(value='Node B: Do you want to go to node C or D?', resumable=True, ns=['node_b:6fc7a809-591b-bf89-5201-32ad6f7c7b88']),)}]"
      ]
     },
     "execution_count": 15,
     "metadata": {},
     "output_type": "execute_result"
    }
   ],
   "source": [
    "memory = MemorySaver()\n",
    "\n",
    "class State(TypedDict):\n",
    "    text:str\n",
    "\n",
    "def node_a(state: State):\n",
    "    print(\"Node A\")\n",
    "    return Command(\n",
    "        goto=\"node_b\",\n",
    "        update={\n",
    "            \"text\":state[\"text\"] + \"A\"\n",
    "        }\n",
    "    )\n",
    "def node_b(state: State):\n",
    "    print(\"Node B\")\n",
    "    human_response = interrupt(\"Node B: Do you want to go to node C or D?\")\n",
    "    print(\"Human Response\",human_response)\n",
    "    if human_response == \"C\":\n",
    "        return Command(\n",
    "            goto=\"node_c\",\n",
    "            update={\n",
    "                \"text\":state[\"text\"] + \"B\"\n",
    "            }\n",
    "        )\n",
    "    elif human_response == \"D\":\n",
    "        return Command(\n",
    "            goto=\"node_d\",\n",
    "            update={\n",
    "                \"text\":state[\"text\"] + \"B\"\n",
    "            }\n",
    "        )\n",
    "    else:\n",
    "        print(\"Invalid response, going to node C by default\")\n",
    "  \n",
    "def node_C(state: State) -> State:\n",
    "    print(\"Node C\")\n",
    "    return Command(\n",
    "        goto=END,\n",
    "        update={\n",
    "            \"text\":state[\"text\"] + \"C\"\n",
    "        }\n",
    "    )\n",
    "def node_D(state: State) -> State:\n",
    "    print(\"Node D\")\n",
    "    return Command(\n",
    "        goto=END,\n",
    "        update={\n",
    "            \"text\":state[\"text\"] + \"D\"\n",
    "        }\n",
    "    )\n",
    "\n",
    "graph = StateGraph(State)\n",
    "graph.add_node(\"node_a\", node_a)\n",
    "graph.add_node(\"node_b\", node_b)\n",
    "graph.add_node(\"node_c\", node_C)\n",
    "graph.add_node(\"node_d\", node_D)\n",
    "graph.set_entry_point(\"node_a\")\n",
    "\n",
    "app= graph.compile(checkpointer=memory)\n",
    "\n",
    "config={\"configurable\":{\"thread_id\":\"1\"}}\n",
    "\n",
    "response =app.invoke({\"text\":\"\"},config=config,stream_mode=\"updates\")\n",
    "\n",
    "response\n",
    "\n",
    "    "
   ]
  },
  {
   "cell_type": "code",
   "execution_count": 16,
   "metadata": {},
   "outputs": [
    {
     "name": "stdout",
     "output_type": "stream",
     "text": [
      "('node_b',)\n"
     ]
    }
   ],
   "source": [
    "print(app.get_state(config).next)"
   ]
  },
  {
   "cell_type": "code",
   "execution_count": 21,
   "metadata": {},
   "outputs": [
    {
     "data": {
      "text/plain": [
       "[]"
      ]
     },
     "execution_count": 21,
     "metadata": {},
     "output_type": "execute_result"
    }
   ],
   "source": [
    "second_result = app.invoke(Command(resume=\"D\"),config=config,stream_mode=\"updates\")\n",
    "second_result"
   ]
  },
  {
   "cell_type": "code",
   "execution_count": null,
   "metadata": {},
   "outputs": [],
   "source": []
  }
 ],
 "metadata": {
  "kernelspec": {
   "display_name": ".venv",
   "language": "python",
   "name": "python3"
  },
  "language_info": {
   "codemirror_mode": {
    "name": "ipython",
    "version": 3
   },
   "file_extension": ".py",
   "mimetype": "text/x-python",
   "name": "python",
   "nbconvert_exporter": "python",
   "pygments_lexer": "ipython3",
   "version": "3.9.6"
  }
 },
 "nbformat": 4,
 "nbformat_minor": 2
}
