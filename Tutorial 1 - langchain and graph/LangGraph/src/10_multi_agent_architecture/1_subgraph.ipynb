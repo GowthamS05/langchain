{
 "cells": [
  {
   "cell_type": "code",
   "execution_count": null,
   "metadata": {},
   "outputs": [],
   "source": [
    "from typing import TypedDict, Annotated\n",
    "from langgraph.graph import add_messages, StateGraph, END\n",
    "from langchain_groq import ChatGroq\n",
    "from langchain_core.messages import AIMessage, HumanMessage\n",
    "from dotenv import load_dotenv\n",
    "from langchain_community.tools.tavily_search import TavilySearchResults\n",
    "from langgraph.prebuilt import ToolNode\n",
    "\n",
    "load_dotenv()\n",
    "\n",
    "class ChildState(TypedDict):\n",
    "    messages: Annotated[list, add_messages]\n",
    "\n",
    "search_tool = TavilySearchResults(max_results=2)\n",
    "tools = [search_tool]\n",
    "\n",
    "llm = ChatGroq(model=\"llama-3.1-8b-instant\")\n",
    "\n",
    "llm_with_tools = llm.bind_tools(tools=tools)\n",
    "\n",
    "def agent(state: ChildState):\n",
    "    return {\n",
    "        \"messages\": [llm_with_tools.invoke(state[\"messages\"])], \n",
    "    }\n",
    "\n",
    "def tools_router(state: ChildState):\n",
    "    last_message = state[\"messages\"][-1]\n",
    "\n",
    "    if(hasattr(last_message, \"tool_calls\") and len(last_message.tool_calls) > 0):\n",
    "        return \"tool_node\"\n",
    "    else: \n",
    "        return END\n",
    "    \n",
    "\n",
    "tool_node = ToolNode(tools=tools)\n",
    "\n",
    "subgraph = StateGraph(ChildState)\n",
    "\n",
    "subgraph.add_node(\"agent\", agent)\n",
    "subgraph.add_node(\"tool_node\", tool_node)\n",
    "subgraph.set_entry_point(\"agent\")\n",
    "\n",
    "subgraph.add_conditional_edges(\"agent\", tools_router)\n",
    "subgraph.add_edge(\"tool_node\", \"agent\")\n",
    "\n",
    "search_app = subgraph.compile()"
   ]
  },
  {
   "cell_type": "code",
   "execution_count": 3,
   "metadata": {},
   "outputs": [
    {
     "data": {
      "image/png": "[encoded data removed]",
      "text/plain": [
       "<IPython.core.display.Image object>"
      ]
     },
     "metadata": {},
     "output_type": "display_data"
    }
   ],
   "source": [
    "from IPython.display import Image, display\n",
    "from langchain_core.runnables.graph import MermaidDrawMethod\n",
    "\n",
    "display(\n",
    "    Image(\n",
    "        search_app.get_graph().draw_mermaid_png(\n",
    "            draw_method=MermaidDrawMethod.API\n",
    "        )\n",
    "    )\n",
    ")"
   ]
  },
  {
   "cell_type": "code",
   "execution_count": 4,
   "metadata": {},
   "outputs": [
    {
     "data": {
      "text/plain": [
       "{'messages': [HumanMessage(content='How is the weather in Chennai?', additional_kwargs={}, response_metadata={}, id='6dc7b9f6-df67-4920-9ffc-709ff76af76e'),\n",
       "  AIMessage(content='', additional_kwargs={'tool_calls': [{'id': 'call_wrys', 'function': {'arguments': '{\"query\": \"Chennai weather\"}', 'name': 'tavily_search_results_json'}, 'type': 'function'}]}, response_metadata={'token_usage': {'completion_tokens': 20, 'prompt_tokens': 285, 'total_tokens': 305, 'completion_time': 0.026666667, 'prompt_time': 0.026744472, 'queue_time': 0.051426928000000004, 'total_time': 0.053411139}, 'model_name': 'llama-3.1-8b-instant', 'system_fingerprint': 'fp_8d1c73bd4c', 'finish_reason': 'tool_calls', 'logprobs': None}, id='run-887df542-c981-47e1-8ef5-db4845dfbf6e-0', tool_calls=[{'name': 'tavily_search_results_json', 'args': {'query': 'Chennai weather'}, 'id': 'call_wrys', 'type': 'tool_call'}], usage_metadata={'input_tokens': 285, 'output_tokens': 20, 'total_tokens': 305}),\n",
       "  ToolMessage(content='[{\"title\": \"Weather in Chennai\", \"url\": \"https://www.weatherapi.com/\", \"content\": \"{\\'location\\': {\\'name\\': \\'Chennai\\', \\'region\\': \\'Tamil Nadu\\', \\'country\\': \\'India\\', \\'lat\\': 13.0833, \\'lon\\': 80.2833, \\'tz_id\\': \\'Asia/Kolkata\\', \\'localtime_epoch\\': 1746615246, \\'localtime\\': \\'2025-05-07 16:24\\'}, \\'current\\': {\\'last_updated_epoch\\': 1746614700, \\'last_updated\\': \\'2025-05-07 16:15\\', \\'temp_c\\': 33.1, \\'temp_f\\': 91.6, \\'is_day\\': 1, \\'condition\\': {\\'text\\': \\'Partly cloudy\\', \\'icon\\': \\'//cdn.weatherapi.com/weather/64x64/day/116.png\\', \\'code\\': 1003}, \\'wind_mph\\': 16.8, \\'wind_kph\\': 27.0, \\'wind_degree\\': 145, \\'wind_dir\\': \\'SE\\', \\'pressure_mb\\': 1003.0, \\'pressure_in\\': 29.62, \\'precip_mm\\': 0.0, \\'precip_in\\': 0.0, \\'humidity\\': 56, \\'cloud\\': 50, \\'feelslike_c\\': 42.7, \\'feelslike_f\\': 108.9, \\'windchill_c\\': 31.2, \\'windchill_f\\': 88.1, \\'heatindex_c\\': 37.4, \\'heatindex_f\\': 99.3, \\'dewpoint_c\\': 24.7, \\'dewpoint_f\\': 76.4, \\'vis_km\\': 6.0, \\'vis_miles\\': 3.0, \\'uv\\': 1.4, \\'gust_mph\\': 21.0, \\'gust_kph\\': 33.8}}\", \"score\": 0.9992051}, {\"title\": \"Chennai Weather Update: IMD Predicts Light To Moderate Rainfall ...\", \"url\": \"https://www.freepressjournal.in/india/chennai-weather-update-for-may-7\", \"content\": \"Chennai: The city woke up at 05: 46 AM and the sun is likely to set at 6: 25 PM on Wednesday, May 7, 2025. Today, the minimum and maximum temperatures are likely to be around 29 degrees Celsius and 34 degrees Celsius, respectively. The humidity is expected to be around 74 per cent and the wind is expected to blow steadily from the South at 19 km/h.\\\\n\\\\nRainfall is predicted in these regions of Tamil Nadu [...] Chennai Weather Update: IMD Predicts Light To Moderate Rainfall In These Regions Of Tamil Nadu\\\\n\\\\nThe city woke up at 05: 46 AM and the sun is likely to set at 6: 25 PM on Wednesday, May 7, 2025. Today, the minimum and maximum temperatures are likely to be around 29 degrees Celsius and 34 degrees Celsius, respectively. [...] The city is expected to wake up at 5:45 AM with mostly cloudy skies on Thursday, May 8, 2025. The minimum and maximum temperatures are expected to be around 29 degrees Celsius and 34 degrees Celsius, respectively. The humidity is expected to be around 74 per cent.\\\\n\\\\n\\\\n\\\\nRECENT STORIES\\\\n\\\\nChennai Weather Update: IMD Predicts Light To Moderate Rainfall In These Regions Of Tamil Nadu\\\\n\\\\nOperation Sindoor: EAM S Jaishankar Shares Firm Message After Indian Strikes On 9 Pakistan Terror...\", \"score\": 0.95282507}]', name='tavily_search_results_json', id='28559060-9ef3-4e64-9651-4b259b05922a', tool_call_id='call_wrys', artifact={'query': 'Chennai weather', 'follow_up_questions': None, 'answer': None, 'images': [], 'results': [{'title': 'Weather in Chennai', 'url': 'https://www.weatherapi.com/', 'content': \"{'location': {'name': 'Chennai', 'region': 'Tamil Nadu', 'country': 'India', 'lat': 13.0833, 'lon': 80.2833, 'tz_id': 'Asia/Kolkata', 'localtime_epoch': 1746615246, 'localtime': '2025-05-07 16:24'}, 'current': {'last_updated_epoch': 1746614700, 'last_updated': '2025-05-07 16:15', 'temp_c': 33.1, 'temp_f': 91.6, 'is_day': 1, 'condition': {'text': 'Partly cloudy', 'icon': '//cdn.weatherapi.com/weather/64x64/day/116.png', 'code': 1003}, 'wind_mph': 16.8, 'wind_kph': 27.0, 'wind_degree': 145, 'wind_dir': 'SE', 'pressure_mb': 1003.0, 'pressure_in': 29.62, 'precip_mm': 0.0, 'precip_in': 0.0, 'humidity': 56, 'cloud': 50, 'feelslike_c': 42.7, 'feelslike_f': 108.9, 'windchill_c': 31.2, 'windchill_f': 88.1, 'heatindex_c': 37.4, 'heatindex_f': 99.3, 'dewpoint_c': 24.7, 'dewpoint_f': 76.4, 'vis_km': 6.0, 'vis_miles': 3.0, 'uv': 1.4, 'gust_mph': 21.0, 'gust_kph': 33.8}}\", 'score': 0.9992051, 'raw_content': None}, {'url': 'https://www.freepressjournal.in/india/chennai-weather-update-for-may-7', 'title': 'Chennai Weather Update: IMD Predicts Light To Moderate Rainfall ...', 'content': 'Chennai: The city woke up at 05: 46 AM and the sun is likely to set at 6: 25 PM on Wednesday, May 7, 2025. Today, the minimum and maximum temperatures are likely to be around 29 degrees Celsius and 34 degrees Celsius, respectively. The humidity is expected to be around 74 per cent and the wind is expected to blow steadily from the South at 19 km/h.\\n\\nRainfall is predicted in these regions of Tamil Nadu [...] Chennai Weather Update: IMD Predicts Light To Moderate Rainfall In These Regions Of Tamil Nadu\\n\\nThe city woke up at 05: 46 AM and the sun is likely to set at 6: 25 PM on Wednesday, May 7, 2025. Today, the minimum and maximum temperatures are likely to be around 29 degrees Celsius and 34 degrees Celsius, respectively. [...] The city is expected to wake up at 5:45 AM with mostly cloudy skies on Thursday, May 8, 2025. The minimum and maximum temperatures are expected to be around 29 degrees Celsius and 34 degrees Celsius, respectively. The humidity is expected to be around 74 per cent.\\n\\n\\n\\nRECENT STORIES\\n\\nChennai Weather Update: IMD Predicts Light To Moderate Rainfall In These Regions Of Tamil Nadu\\n\\nOperation Sindoor: EAM S Jaishankar Shares Firm Message After Indian Strikes On 9 Pakistan Terror...', 'score': 0.95282507, 'raw_content': None}], 'response_time': 1.56}),\n",
       "  AIMessage(content='The current weather in Chennai is partly cloudy with a temperature of 33.1°C (91.6°F). The humidity is around 56% and the wind is blowing from the southeast at 27 km/h (16.8 mph). There is no rainfall predicted in the city.', additional_kwargs={}, response_metadata={'token_usage': {'completion_tokens': 59, 'prompt_tokens': 1099, 'total_tokens': 1158, 'completion_time': 0.078666667, 'prompt_time': 0.037100686, 'queue_time': 0.11320257, 'total_time': 0.115767353}, 'model_name': 'llama-3.1-8b-instant', 'system_fingerprint': 'fp_a4265e44d5', 'finish_reason': 'stop', 'logprobs': None}, id='run-07a0917d-2357-438a-b305-11d31fa682ca-0', usage_metadata={'input_tokens': 1099, 'output_tokens': 59, 'total_tokens': 1158})]}"
      ]
     },
     "execution_count": 4,
     "metadata": {},
     "output_type": "execute_result"
    }
   ],
   "source": [
    "search_app.invoke({\"messages\": [HumanMessage(content=\"How is the weather in Chennai?\")]})"
   ]
  },
  {
   "cell_type": "code",
   "execution_count": 5,
   "metadata": {},
   "outputs": [
    {
     "data": {
      "text/plain": [
       "{'messages': [HumanMessage(content='How is the weather in Chennai?', additional_kwargs={}, response_metadata={}, id='6ad0ac8f-12c4-4c9e-adb3-035fdf83b16d'),\n",
       "  AIMessage(content='', additional_kwargs={'tool_calls': [{'id': 'call_xjyx', 'function': {'arguments': '{\"query\": \"Chennai weather\"}', 'name': 'tavily_search_results_json'}, 'type': 'function'}]}, response_metadata={'token_usage': {'completion_tokens': 20, 'prompt_tokens': 285, 'total_tokens': 305, 'completion_time': 0.026666667, 'prompt_time': 0.011374953, 'queue_time': 0.046490757, 'total_time': 0.03804162}, 'model_name': 'llama-3.1-8b-instant', 'system_fingerprint': 'fp_a4265e44d5', 'finish_reason': 'tool_calls', 'logprobs': None}, id='run-69107f3f-021e-431c-a43a-3c43db05acd3-0', tool_calls=[{'name': 'tavily_search_results_json', 'args': {'query': 'Chennai weather'}, 'id': 'call_xjyx', 'type': 'tool_call'}], usage_metadata={'input_tokens': 285, 'output_tokens': 20, 'total_tokens': 305}),\n",
       "  ToolMessage(content='[{\"title\": \"Weather in Chennai\", \"url\": \"https://www.weatherapi.com/\", \"content\": \"{\\'location\\': {\\'name\\': \\'Chennai\\', \\'region\\': \\'Tamil Nadu\\', \\'country\\': \\'India\\', \\'lat\\': 13.0833, \\'lon\\': 80.2833, \\'tz_id\\': \\'Asia/Kolkata\\', \\'localtime_epoch\\': 1746615246, \\'localtime\\': \\'2025-05-07 16:24\\'}, \\'current\\': {\\'last_updated_epoch\\': 1746614700, \\'last_updated\\': \\'2025-05-07 16:15\\', \\'temp_c\\': 33.1, \\'temp_f\\': 91.6, \\'is_day\\': 1, \\'condition\\': {\\'text\\': \\'Partly cloudy\\', \\'icon\\': \\'//cdn.weatherapi.com/weather/64x64/day/116.png\\', \\'code\\': 1003}, \\'wind_mph\\': 16.8, \\'wind_kph\\': 27.0, \\'wind_degree\\': 145, \\'wind_dir\\': \\'SE\\', \\'pressure_mb\\': 1003.0, \\'pressure_in\\': 29.62, \\'precip_mm\\': 0.0, \\'precip_in\\': 0.0, \\'humidity\\': 56, \\'cloud\\': 50, \\'feelslike_c\\': 42.7, \\'feelslike_f\\': 108.9, \\'windchill_c\\': 31.2, \\'windchill_f\\': 88.1, \\'heatindex_c\\': 37.4, \\'heatindex_f\\': 99.3, \\'dewpoint_c\\': 24.7, \\'dewpoint_f\\': 76.4, \\'vis_km\\': 6.0, \\'vis_miles\\': 3.0, \\'uv\\': 1.4, \\'gust_mph\\': 21.0, \\'gust_kph\\': 33.8}}\", \"score\": 0.9992051}, {\"title\": \"Chennai Weather Update: IMD Predicts Light To Moderate Rainfall ...\", \"url\": \"https://www.freepressjournal.in/india/chennai-weather-update-for-may-7\", \"content\": \"Chennai: The city woke up at 05: 46 AM and the sun is likely to set at 6: 25 PM on Wednesday, May 7, 2025. Today, the minimum and maximum temperatures are likely to be around 29 degrees Celsius and 34 degrees Celsius, respectively. The humidity is expected to be around 74 per cent and the wind is expected to blow steadily from the South at 19 km/h.\\\\n\\\\nRainfall is predicted in these regions of Tamil Nadu [...] Chennai Weather Update: IMD Predicts Light To Moderate Rainfall In These Regions Of Tamil Nadu\\\\n\\\\nThe city woke up at 05: 46 AM and the sun is likely to set at 6: 25 PM on Wednesday, May 7, 2025. Today, the minimum and maximum temperatures are likely to be around 29 degrees Celsius and 34 degrees Celsius, respectively. [...] The city is expected to wake up at 5:45 AM with mostly cloudy skies on Thursday, May 8, 2025. The minimum and maximum temperatures are expected to be around 29 degrees Celsius and 34 degrees Celsius, respectively. The humidity is expected to be around 74 per cent.\\\\n\\\\n\\\\n\\\\nRECENT STORIES\\\\n\\\\nChennai Weather Update: IMD Predicts Light To Moderate Rainfall In These Regions Of Tamil Nadu\\\\n\\\\nOperation Sindoor: EAM S Jaishankar Shares Firm Message After Indian Strikes On 9 Pakistan Terror...\", \"score\": 0.95282507}]', name='tavily_search_results_json', id='92ea8283-ffb3-4d75-b8b7-69f62d5fd412', tool_call_id='call_xjyx', artifact={'query': 'Chennai weather', 'follow_up_questions': None, 'answer': None, 'images': [], 'results': [{'title': 'Weather in Chennai', 'url': 'https://www.weatherapi.com/', 'content': \"{'location': {'name': 'Chennai', 'region': 'Tamil Nadu', 'country': 'India', 'lat': 13.0833, 'lon': 80.2833, 'tz_id': 'Asia/Kolkata', 'localtime_epoch': 1746615246, 'localtime': '2025-05-07 16:24'}, 'current': {'last_updated_epoch': 1746614700, 'last_updated': '2025-05-07 16:15', 'temp_c': 33.1, 'temp_f': 91.6, 'is_day': 1, 'condition': {'text': 'Partly cloudy', 'icon': '//cdn.weatherapi.com/weather/64x64/day/116.png', 'code': 1003}, 'wind_mph': 16.8, 'wind_kph': 27.0, 'wind_degree': 145, 'wind_dir': 'SE', 'pressure_mb': 1003.0, 'pressure_in': 29.62, 'precip_mm': 0.0, 'precip_in': 0.0, 'humidity': 56, 'cloud': 50, 'feelslike_c': 42.7, 'feelslike_f': 108.9, 'windchill_c': 31.2, 'windchill_f': 88.1, 'heatindex_c': 37.4, 'heatindex_f': 99.3, 'dewpoint_c': 24.7, 'dewpoint_f': 76.4, 'vis_km': 6.0, 'vis_miles': 3.0, 'uv': 1.4, 'gust_mph': 21.0, 'gust_kph': 33.8}}\", 'score': 0.9992051, 'raw_content': None}, {'url': 'https://www.freepressjournal.in/india/chennai-weather-update-for-may-7', 'title': 'Chennai Weather Update: IMD Predicts Light To Moderate Rainfall ...', 'content': 'Chennai: The city woke up at 05: 46 AM and the sun is likely to set at 6: 25 PM on Wednesday, May 7, 2025. Today, the minimum and maximum temperatures are likely to be around 29 degrees Celsius and 34 degrees Celsius, respectively. The humidity is expected to be around 74 per cent and the wind is expected to blow steadily from the South at 19 km/h.\\n\\nRainfall is predicted in these regions of Tamil Nadu [...] Chennai Weather Update: IMD Predicts Light To Moderate Rainfall In These Regions Of Tamil Nadu\\n\\nThe city woke up at 05: 46 AM and the sun is likely to set at 6: 25 PM on Wednesday, May 7, 2025. Today, the minimum and maximum temperatures are likely to be around 29 degrees Celsius and 34 degrees Celsius, respectively. [...] The city is expected to wake up at 5:45 AM with mostly cloudy skies on Thursday, May 8, 2025. The minimum and maximum temperatures are expected to be around 29 degrees Celsius and 34 degrees Celsius, respectively. The humidity is expected to be around 74 per cent.\\n\\n\\n\\nRECENT STORIES\\n\\nChennai Weather Update: IMD Predicts Light To Moderate Rainfall In These Regions Of Tamil Nadu\\n\\nOperation Sindoor: EAM S Jaishankar Shares Firm Message After Indian Strikes On 9 Pakistan Terror...', 'score': 0.95282507, 'raw_content': None}], 'response_time': 1.81}),\n",
       "  AIMessage(content='The current weather in Chennai is partly cloudy with a temperature of 33.1°C. The humidity is around 56% and the wind is blowing from the Southeast at 27 km/h. There is a chance of light to moderate rainfall in the region.', additional_kwargs={}, response_metadata={'token_usage': {'completion_tokens': 53, 'prompt_tokens': 1099, 'total_tokens': 1152, 'completion_time': 0.070666667, 'prompt_time': 0.034939394, 'queue_time': 0.049073886, 'total_time': 0.105606061}, 'model_name': 'llama-3.1-8b-instant', 'system_fingerprint': 'fp_8d1c73bd4c', 'finish_reason': 'stop', 'logprobs': None}, id='run-036d810d-2166-40cc-9c89-c848d33f2b39-0', usage_metadata={'input_tokens': 1099, 'output_tokens': 53, 'total_tokens': 1152})]}"
      ]
     },
     "execution_count": 5,
     "metadata": {},
     "output_type": "execute_result"
    }
   ],
   "source": [
    "from typing import TypedDict, Annotated\n",
    "from langgraph.graph import add_messages, StateGraph, START, END\n",
    "from langchain_core.messages import HumanMessage\n",
    "\n",
    "# Define parent graph with the same schema\n",
    "class ParentState(TypedDict):\n",
    "    messages: Annotated[list, add_messages]\n",
    "\n",
    "# Create parent graph\n",
    "parent_graph = StateGraph(ParentState)\n",
    "\n",
    "# Add the subgraph as a node\n",
    "parent_graph.add_node(\"search_agent\", search_app)\n",
    "\n",
    "# Connect the flow\n",
    "parent_graph.add_edge(START, \"search_agent\")\n",
    "parent_graph.add_edge(\"search_agent\", END)\n",
    "\n",
    "# Compile parent graph\n",
    "parent_app = parent_graph.compile()\n",
    "\n",
    "# Run the parent graph\n",
    "result = parent_app.invoke({\"messages\": [HumanMessage(content=\"How is the weather in Chennai?\")]})\n",
    "result"
   ]
  },
  {
   "cell_type": "code",
   "execution_count": 6,
   "metadata": {},
   "outputs": [
    {
     "name": "stdout",
     "output_type": "stream",
     "text": [
      "{'query': 'How is the weather in Chennai?', 'response': 'The weather in Chennai is expected to be partly cloudy with a temperature of 33.1°C.'}\n"
     ]
    }
   ],
   "source": [
    "from typing import TypedDict, Annotated, Dict\n",
    "from langgraph.graph import StateGraph, START, END\n",
    "from langchain_core.messages import HumanMessage\n",
    "\n",
    "# Define parent graph with different schema\n",
    "class QueryState(TypedDict):\n",
    "    query: str\n",
    "    response: str\n",
    "\n",
    "# Function to invoke subgraph\n",
    "def search_agent(state: QueryState) -> Dict:\n",
    "    # Transform from parent schema to subgraph schema\n",
    "    subgraph_input = {\n",
    "        \"messages\": [HumanMessage(content=state[\"query\"])]\n",
    "    }\n",
    "    \n",
    "    # Invoke the subgraph\n",
    "    subgraph_result = search_app.invoke(subgraph_input)\n",
    "    \n",
    "    # Transform response back to parent schema\n",
    "    assistant_message = subgraph_result[\"messages\"][-1]\n",
    "    return {\"response\": assistant_message.content}\n",
    "\n",
    "# Create parent graph\n",
    "parent_graph = StateGraph(QueryState)\n",
    "\n",
    "# Add transformation node that invokes subgraph\n",
    "parent_graph.add_node(\"search_agent\", search_agent)\n",
    "\n",
    "# Connect the flow\n",
    "parent_graph.add_edge(START, \"search_agent\")\n",
    "parent_graph.add_edge(\"search_agent\", END)\n",
    "\n",
    "# Compile parent graph\n",
    "parent_app = parent_graph.compile()\n",
    "\n",
    "# Run the parent graph\n",
    "result = parent_app.invoke({\"query\": \"How is the weather in Chennai?\", \"response\": \"\"})\n",
    "print(result)"
   ]
  }
 ],
 "metadata": {
  "kernelspec": {
   "display_name": ".venv",
   "language": "python",
   "name": "python3"
  },
  "language_info": {
   "codemirror_mode": {
    "name": "ipython",
    "version": 3
   },
   "file_extension": ".py",
   "mimetype": "text/x-python",
   "name": "python",
   "nbconvert_exporter": "python",
   "pygments_lexer": "ipython3",
   "version": "3.9.6"
  }
 },
 "nbformat": 4,
 "nbformat_minor": 2
}
